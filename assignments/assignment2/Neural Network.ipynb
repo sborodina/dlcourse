{
 "cells": [
  {
   "cell_type": "markdown",
   "metadata": {},
   "source": [
    "# Задание 2.1 - Нейронные сети\n",
    "\n",
    "В этом задании вы реализуете и натренируете настоящую нейроную сеть своими руками!\n",
    "\n",
    "В некотором смысле это будет расширением прошлого задания - нам нужно просто составить несколько линейных классификаторов вместе!\n",
    "\n",
    "<img src=\"https://i.redd.it/n9fgba8b0qr01.png\" alt=\"Stack_more_layers\" width=\"400px\"/>"
   ]
  },
  {
   "cell_type": "code",
   "execution_count": 4,
   "metadata": {},
   "outputs": [],
   "source": [
    "import numpy as np\n",
    "import matplotlib.pyplot as plt\n",
    "\n",
    "%matplotlib inline\n",
    "\n",
    "%load_ext autoreload\n",
    "%autoreload 2"
   ]
  },
  {
   "cell_type": "code",
   "execution_count": 145,
   "metadata": {},
   "outputs": [],
   "source": [
    "from dataset import load_svhn, random_split_train_val\n",
    "from gradient_check import check_layer_gradient, check_layer_param_gradient, check_model_gradient\n",
    "from layers import FullyConnectedLayer, ReLULayer\n",
    "from model import TwoLayerNet\n",
    "from trainer import Trainer, Dataset\n",
    "from optim import SGD, MomentumSGD\n",
    "from metrics import multiclass_accuracy"
   ]
  },
  {
   "cell_type": "markdown",
   "metadata": {},
   "source": [
    "# Загружаем данные\n",
    "\n",
    "И разделяем их на training и validation."
   ]
  },
  {
   "cell_type": "code",
   "execution_count": 6,
   "metadata": {},
   "outputs": [],
   "source": [
    "def prepare_for_neural_network(train_X, test_X):\n",
    "    train_flat = train_X.reshape(train_X.shape[0], -1).astype(np.float) / 255.0\n",
    "    test_flat = test_X.reshape(test_X.shape[0], -1).astype(np.float) / 255.0\n",
    "    \n",
    "    # Subtract mean\n",
    "    mean_image = np.mean(train_flat, axis = 0)\n",
    "    train_flat -= mean_image\n",
    "    test_flat -= mean_image\n",
    "    \n",
    "    return train_flat, test_flat\n",
    "    \n",
    "train_X, train_y, test_X, test_y = load_svhn(\"data\", max_train=10000, max_test=1000)    \n",
    "train_X, test_X = prepare_for_neural_network(train_X, test_X)\n",
    "# Split train into train and val\n",
    "train_X, train_y, val_X, val_y = random_split_train_val(train_X, train_y, num_val = 1000)"
   ]
  },
  {
   "cell_type": "markdown",
   "metadata": {},
   "source": [
    "# Как всегда, начинаем с кирпичиков\n",
    "\n",
    "Мы будем реализовывать необходимые нам слои по очереди. Каждый слой должен реализовать:\n",
    "- прямой проход (forward pass), который генерирует выход слоя по входу и запоминает необходимые данные\n",
    "- обратный проход (backward pass), который получает градиент по выходу слоя и вычисляет градиент по входу и по параметрам\n",
    "\n",
    "Начнем с ReLU, у которого параметров нет."
   ]
  },
  {
   "cell_type": "code",
   "execution_count": 25,
   "metadata": {
    "scrolled": false
   },
   "outputs": [
    {
     "name": "stdout",
     "output_type": "stream",
     "text": [
      "-0.5146019010431546 [[ 1.53249978  0.          0.27121913]\n",
      " [ 0.         -1.47066096  0.80562851]]\n",
      "Gradient check passed!\n"
     ]
    }
   ],
   "source": [
    "# TODO: Implement ReLULayer layer in layers.py\n",
    "# Note: you'll need to copy implementation of the gradient_check function from the previous assignment\n",
    "\n",
    "X = np.array([[1,-2,3],\n",
    "              [-1, 2, 0.1]\n",
    "              ])\n",
    "\n",
    "\n",
    "assert check_layer_gradient(ReLULayer(), X)"
   ]
  },
  {
   "cell_type": "markdown",
   "metadata": {},
   "source": [
    "А теперь реализуем полносвязный слой (fully connected layer), у которого будет два массива параметров: W (weights) и B (bias).\n",
    "\n",
    "Все параметры наши слои будут использовать для параметров специальный класс `Param`, в котором будут храниться значения параметров и градиенты этих параметров, вычисляемые во время обратного прохода.\n",
    "\n",
    "Это даст возможность аккумулировать (суммировать) градиенты из разных частей функции потерь, например, из cross-entropy loss и regularization loss."
   ]
  },
  {
   "cell_type": "code",
   "execution_count": 115,
   "metadata": {},
   "outputs": [
    {
     "name": "stdout",
     "output_type": "stream",
     "text": [
      "-0.0001392413345112451 [[-0.00199201  0.00069342  0.00160548]\n",
      " [-0.00020433 -0.00042334 -0.00078595]]\n",
      "Gradient check passed!\n",
      "-0.007500077696774054 [[-0.80459065  1.0931369  -1.75920352  1.42553744]\n",
      " [ 1.6091813  -2.18627379  3.51840704 -2.85107488]\n",
      " [ 1.10169564  1.24580067 -5.08655863  3.23106459]]\n",
      "Gradient check passed!\n",
      "-0.0017260656328064502 [-1.37087222 -1.65236023 -0.15841147 -0.67733355]\n",
      "Gradient check passed!\n"
     ]
    }
   ],
   "source": [
    "# TODO: Implement FullyConnected layer forward and backward methods\n",
    "assert check_layer_gradient(FullyConnectedLayer(3, 4), X)\n",
    "# TODO: Implement storing gradients for W and B\n",
    "assert check_layer_param_gradient(FullyConnectedLayer(3, 4), X, 'W')\n",
    "assert check_layer_param_gradient(FullyConnectedLayer(3, 4), X, 'B')"
   ]
  },
  {
   "cell_type": "markdown",
   "metadata": {},
   "source": [
    "## Создаем нейронную сеть\n",
    "\n",
    "Теперь мы реализуем простейшую нейронную сеть с двумя полносвязным слоями и нелинейностью ReLU. Реализуйте функцию `compute_loss_and_gradients`, она должна запустить прямой и обратный проход через оба слоя для вычисления градиентов.\n",
    "\n",
    "Не забудьте реализовать очистку градиентов в начале функции."
   ]
  },
  {
   "cell_type": "code",
   "execution_count": 116,
   "metadata": {},
   "outputs": [
    {
     "name": "stdout",
     "output_type": "stream",
     "text": [
      "Checking gradient for W1\n",
      "2.3036642740513136 [[ 2.71588778e-05  3.02080563e-06  1.53953838e-07]\n",
      " [ 6.07403604e-06  1.20101283e-06  1.83439697e-07]\n",
      " [-5.33421207e-05 -3.02735216e-06  5.21694187e-07]\n",
      " ...\n",
      " [ 1.02044063e-04  4.25915749e-06 -1.43254031e-06]\n",
      " [ 6.42201363e-05  1.34577582e-06 -1.28006507e-06]\n",
      " [ 3.58459824e-06 -3.26818827e-06 -1.01961477e-06]]\n",
      "Gradient check passed!\n",
      "Checking gradient for B1\n",
      "2.30366427406151 [-7.37779783e-04 -3.36566043e-05  9.54537769e-06]\n",
      "Gradient check passed!\n",
      "Checking gradient for W2\n",
      "2.303664273966056 [[ 0.00161744  0.00161753  0.00161564  0.0016163   0.00161712  0.00161437\n",
      "   0.00161417  0.0016173   0.00161764 -0.0145475 ]\n",
      " [ 0.00051132  0.00051135  0.00051075  0.00051096  0.00051122  0.00051035\n",
      "   0.00051029  0.00051128  0.00051138 -0.0045989 ]\n",
      " [ 0.00011767  0.00011768  0.00011754  0.00011759  0.00011765  0.00011745\n",
      "   0.00011744  0.00011766  0.00011769 -0.00105838]]\n",
      "Gradient check passed!\n",
      "Checking gradient for B2\n",
      "2.303664284549819 [ 0.10007633  0.10008368  0.09996535  0.10000602  0.10005674  0.09988829\n",
      "  0.09987442  0.10006695  0.10009007 -0.90010786]\n",
      "Gradient check passed!\n"
     ]
    },
    {
     "data": {
      "text/plain": [
       "True"
      ]
     },
     "execution_count": 116,
     "metadata": {},
     "output_type": "execute_result"
    }
   ],
   "source": [
    "# TODO: In model.py, implement compute_loss_and_gradients function\n",
    "model = TwoLayerNet(n_input = train_X.shape[1], n_output = 10, hidden_layer_size = 3, reg = 0)\n",
    "loss = model.compute_loss_and_gradients(train_X[:2], train_y[:2])\n",
    "\n",
    "# TODO Now implement backward pass and aggregate all of the params\n",
    "check_model_gradient(model, train_X[:2], train_y[:2])"
   ]
  },
  {
   "cell_type": "markdown",
   "metadata": {},
   "source": [
    "Теперь добавьте к модели регуляризацию - она должна прибавляться к loss и делать свой вклад в градиенты."
   ]
  },
  {
   "cell_type": "code",
   "execution_count": 125,
   "metadata": {},
   "outputs": [
    {
     "name": "stdout",
     "output_type": "stream",
     "text": [
      "Checking gradient for W1\n",
      "2.3933750495538626 [[ 0.02027072  0.00564936  0.00421046]\n",
      " [-0.02900239 -0.00411089 -0.00584951]\n",
      " [-0.03206649 -0.02235545  0.01793461]\n",
      " ...\n",
      " [-0.02537408  0.01072357  0.0084676 ]\n",
      " [ 0.03066695  0.00824387 -0.01201462]\n",
      " [ 0.02014158 -0.04254118  0.02939073]]\n",
      "Gradient check passed!\n",
      "Checking gradient for B1\n",
      "2.393374756646522 [ 0.0093345  -0.01643931  0.00552571]\n",
      "Gradient check passed!\n",
      "Checking gradient for W2\n",
      "2.3933747023894 [[-0.01174064  0.02709303 -0.00854755 -0.00322643 -0.00487167  0.00445475\n",
      "   0.00765399  0.01444248 -0.0034767   0.00247216]\n",
      " [ 0.0387815  -0.0015507  -0.00992563 -0.02318914 -0.00999292 -0.00066845\n",
      "  -0.00863941  0.01674501 -0.00036174 -0.02171596]\n",
      " [ 0.02440192  0.02507267 -0.01124602 -0.01141203  0.00269443  0.01403875\n",
      "  -0.00538512 -0.03277587  0.03127251 -0.01519839]]\n",
      "Gradient check passed!\n",
      "Checking gradient for B2\n",
      "2.393374855373259 [ 0.0917046   0.10352838  0.11284574  0.07804399  0.09655445  0.10119218\n",
      "  0.05284246  0.11805752  0.0765151  -0.88091829]\n",
      "Gradient check passed!\n"
     ]
    },
    {
     "data": {
      "text/plain": [
       "True"
      ]
     },
     "execution_count": 125,
     "metadata": {},
     "output_type": "execute_result"
    }
   ],
   "source": [
    "# TODO Now implement l2 regularization in the forward and backward pass\n",
    "model_with_reg = TwoLayerNet(n_input = train_X.shape[1], n_output = 10, hidden_layer_size = 3, reg = 1e1)\n",
    "loss_with_reg = model_with_reg.compute_loss_and_gradients(train_X[:2], train_y[:2])\n",
    "assert loss_with_reg > loss and not np.isclose(loss_with_reg, loss), \\\n",
    "    \"Loss with regularization (%2.4f) should be higher than without it (%2.4f)!\" % (loss, loss_with_reg)\n",
    "\n",
    "check_model_gradient(model_with_reg, train_X[:2], train_y[:2])"
   ]
  },
  {
   "cell_type": "markdown",
   "metadata": {},
   "source": [
    "Также реализуем функцию предсказания (вычисления значения) модели на новых данных.\n",
    "\n",
    "Какое значение точности мы ожидаем увидеть до начала тренировки?"
   ]
  },
  {
   "cell_type": "code",
   "execution_count": 126,
   "metadata": {},
   "outputs": [
    {
     "data": {
      "text/plain": [
       "0.16666666666666666"
      ]
     },
     "execution_count": 126,
     "metadata": {},
     "output_type": "execute_result"
    }
   ],
   "source": [
    "# Finally, implement predict function!\n",
    "\n",
    "# TODO: Implement predict function\n",
    "# What would be the value we expect?\n",
    "multiclass_accuracy(model_with_reg.predict(train_X[:30]), train_y[:30]) "
   ]
  },
  {
   "cell_type": "markdown",
   "metadata": {},
   "source": [
    "# Допишем код для процесса тренировки\n",
    "\n",
    "Если все реализовано корректно, значение функции ошибки должно уменьшаться с каждой эпохой, пусть и медленно. Не беспокойтесь пока про validation accuracy."
   ]
  },
  {
   "cell_type": "code",
   "execution_count": 134,
   "metadata": {},
   "outputs": [
    {
     "name": "stdout",
     "output_type": "stream",
     "text": [
      "Loss: 2.234589, Train accuracy: 0.199000, val accuracy: 0.207000\n",
      "Loss: 2.117092, Train accuracy: 0.310889, val accuracy: 0.314000\n",
      "Loss: 2.196652, Train accuracy: 0.406333, val accuracy: 0.401000\n",
      "Loss: 1.963867, Train accuracy: 0.467889, val accuracy: 0.474000\n",
      "Loss: 1.759799, Train accuracy: 0.511000, val accuracy: 0.527000\n",
      "Loss: 1.810178, Train accuracy: 0.535222, val accuracy: 0.528000\n",
      "Loss: 1.579139, Train accuracy: 0.563667, val accuracy: 0.562000\n",
      "Loss: 1.696301, Train accuracy: 0.549000, val accuracy: 0.550000\n",
      "Loss: 1.781856, Train accuracy: 0.548333, val accuracy: 0.550000\n",
      "Loss: 1.795437, Train accuracy: 0.579444, val accuracy: 0.561000\n",
      "Loss: 1.784782, Train accuracy: 0.582111, val accuracy: 0.573000\n",
      "Loss: 1.575877, Train accuracy: 0.590667, val accuracy: 0.596000\n",
      "Loss: 1.838572, Train accuracy: 0.597444, val accuracy: 0.606000\n",
      "Loss: 2.088101, Train accuracy: 0.594222, val accuracy: 0.589000\n",
      "Loss: 1.513619, Train accuracy: 0.590889, val accuracy: 0.583000\n",
      "Loss: 2.076604, Train accuracy: 0.605556, val accuracy: 0.612000\n",
      "Loss: 2.062168, Train accuracy: 0.582333, val accuracy: 0.555000\n",
      "Loss: 1.834153, Train accuracy: 0.561111, val accuracy: 0.538000\n",
      "Loss: 1.768199, Train accuracy: 0.599778, val accuracy: 0.603000\n",
      "Loss: 2.181959, Train accuracy: 0.615778, val accuracy: 0.614000\n"
     ]
    }
   ],
   "source": [
    "model = TwoLayerNet(n_input = train_X.shape[1], n_output = 10, hidden_layer_size = 100, reg = 1e-2)\n",
    "dataset = Dataset(train_X, train_y, val_X, val_y)\n",
    "trainer = Trainer(model, dataset, SGD(), learning_rate = 1e-1)\n",
    "\n",
    "# TODO Implement missing pieces in Trainer.fit function\n",
    "# You should expect loss to go down every epoch, even if it's slow\n",
    "loss_history, train_history, val_history = trainer.fit()"
   ]
  },
  {
   "cell_type": "code",
   "execution_count": 135,
   "metadata": {},
   "outputs": [
    {
     "data": {
      "text/plain": [
       "[<matplotlib.lines.Line2D at 0x2190b04ee80>]"
      ]
     },
     "execution_count": 135,
     "metadata": {},
     "output_type": "execute_result"
    },
    {
     "data": {
      "image/png": "[encoded data removed]",
      "text/plain": [
       "<Figure size 432x288 with 1 Axes>"
      ]
     },
     "metadata": {
      "needs_background": "light"
     },
     "output_type": "display_data"
    }
   ],
   "source": [
    "plt.plot(train_history)\n",
    "plt.plot(val_history)"
   ]
  },
  {
   "cell_type": "markdown",
   "metadata": {},
   "source": [
    "# Улучшаем процесс тренировки\n",
    "\n",
    "Мы реализуем несколько ключевых оптимизаций, необходимых для тренировки современных нейросетей."
   ]
  },
  {
   "cell_type": "markdown",
   "metadata": {},
   "source": [
    "## Уменьшение скорости обучения (learning rate decay)\n",
    "\n",
    "Одна из необходимых оптимизаций во время тренировки нейронных сетей - постепенное уменьшение скорости обучения по мере тренировки.\n",
    "\n",
    "Один из стандартных методов - уменьшение скорости обучения (learning rate) каждые N эпох на коэффициент d (часто называемый decay). Значения N и d, как всегда, являются гиперпараметрами и должны подбираться на основе эффективности на проверочных данных (validation data). \n",
    "\n",
    "В нашем случае N будет равным 1."
   ]
  },
  {
   "cell_type": "code",
   "execution_count": 146,
   "metadata": {},
   "outputs": [
    {
     "name": "stdout",
     "output_type": "stream",
     "text": [
      "Loss: 2.301499, Train accuracy: 0.196667, val accuracy: 0.206000\n",
      "Loss: 2.275931, Train accuracy: 0.196667, val accuracy: 0.206000\n",
      "Loss: 2.310207, Train accuracy: 0.196667, val accuracy: 0.206000\n",
      "Loss: 2.290505, Train accuracy: 0.196667, val accuracy: 0.206000\n",
      "Loss: 2.264170, Train accuracy: 0.196667, val accuracy: 0.206000\n",
      "Loss: 2.323742, Train accuracy: 0.196667, val accuracy: 0.206000\n",
      "Loss: 2.230210, Train accuracy: 0.196667, val accuracy: 0.206000\n",
      "Loss: 2.278356, Train accuracy: 0.196667, val accuracy: 0.206000\n",
      "Loss: 2.320051, Train accuracy: 0.196667, val accuracy: 0.206000\n",
      "Loss: 2.199329, Train accuracy: 0.196667, val accuracy: 0.206000\n",
      "Loss: 2.268487, Train accuracy: 0.196667, val accuracy: 0.206000\n",
      "Loss: 2.364486, Train accuracy: 0.196667, val accuracy: 0.206000\n",
      "Loss: 2.199324, Train accuracy: 0.196667, val accuracy: 0.206000\n",
      "Loss: 2.253198, Train accuracy: 0.196667, val accuracy: 0.206000\n",
      "Loss: 2.286931, Train accuracy: 0.196667, val accuracy: 0.206000\n",
      "Loss: 2.316432, Train accuracy: 0.196667, val accuracy: 0.206000\n",
      "Loss: 2.328308, Train accuracy: 0.196667, val accuracy: 0.206000\n",
      "Loss: 2.276906, Train accuracy: 0.196667, val accuracy: 0.206000\n",
      "Loss: 2.175636, Train accuracy: 0.196667, val accuracy: 0.206000\n",
      "Loss: 2.355781, Train accuracy: 0.196667, val accuracy: 0.206000\n"
     ]
    }
   ],
   "source": [
    "# TODO Implement learning rate decay inside Trainer.fit method\n",
    "# Decay should happen once per epoch\n",
    "\n",
    "model = TwoLayerNet(n_input = train_X.shape[1], n_output = 10, hidden_layer_size = 100, reg = 1e-1)\n",
    "dataset = Dataset(train_X, train_y, val_X, val_y)\n",
    "trainer = Trainer(model, dataset, SGD(), learning_rate_decay=0.99)\n",
    "\n",
    "initial_learning_rate = trainer.learning_rate\n",
    "loss_history, train_history, val_history = trainer.fit()\n",
    "\n",
    "assert trainer.learning_rate < initial_learning_rate, \"Learning rate should've been reduced\"\n",
    "assert trainer.learning_rate > 0.5*initial_learning_rate, \"Learning rate shouldn'tve been reduced that much!\""
   ]
  },
  {
   "cell_type": "markdown",
   "metadata": {},
   "source": [
    "# Накопление импульса (Momentum SGD)\n",
    "\n",
    "Другой большой класс оптимизаций - использование более эффективных методов градиентного спуска. Мы реализуем один из них - накопление импульса (Momentum SGD).\n",
    "\n",
    "Этот метод хранит скорость движения, использует градиент для ее изменения на каждом шаге, и изменяет веса пропорционально значению скорости.\n",
    "(Физическая аналогия: Вместо скорости градиенты теперь будут задавать ускорение, но будет присутствовать сила трения.)\n",
    "\n",
    "```\n",
    "velocity = momentum * velocity - learning_rate * gradient \n",
    "w = w + velocity\n",
    "```\n",
    "\n",
    "`momentum` здесь коэффициент затухания, который тоже является гиперпараметром (к счастью, для него часто есть хорошее значение по умолчанию, типичный диапазон -- 0.8-0.99).\n",
    "\n",
    "Несколько полезных ссылок, где метод разбирается более подробно:  \n",
    "http://cs231n.github.io/neural-networks-3/#sgd  \n",
    "https://distill.pub/2017/momentum/"
   ]
  },
  {
   "cell_type": "code",
   "execution_count": 151,
   "metadata": {},
   "outputs": [
    {
     "name": "stdout",
     "output_type": "stream",
     "text": [
      "Loss: 2.066856, Train accuracy: 0.197333, val accuracy: 0.207000\n",
      "Loss: 1.552011, Train accuracy: 0.400111, val accuracy: 0.405000\n",
      "Loss: 1.283972, Train accuracy: 0.550000, val accuracy: 0.566000\n",
      "Loss: 1.568589, Train accuracy: 0.633111, val accuracy: 0.632000\n",
      "Loss: 1.410308, Train accuracy: 0.676667, val accuracy: 0.656000\n",
      "Loss: 0.844700, Train accuracy: 0.708222, val accuracy: 0.687000\n",
      "Loss: 0.807679, Train accuracy: 0.719222, val accuracy: 0.694000\n",
      "Loss: 1.036801, Train accuracy: 0.726222, val accuracy: 0.683000\n",
      "Loss: 0.770682, Train accuracy: 0.777222, val accuracy: 0.722000\n",
      "Loss: 0.769781, Train accuracy: 0.779222, val accuracy: 0.712000\n",
      "Loss: 0.927714, Train accuracy: 0.772556, val accuracy: 0.704000\n",
      "Loss: 0.623606, Train accuracy: 0.783444, val accuracy: 0.721000\n",
      "Loss: 0.915004, Train accuracy: 0.812667, val accuracy: 0.736000\n",
      "Loss: 1.646917, Train accuracy: 0.785556, val accuracy: 0.731000\n",
      "Loss: 0.611142, Train accuracy: 0.825333, val accuracy: 0.739000\n",
      "Loss: 0.725620, Train accuracy: 0.841333, val accuracy: 0.742000\n",
      "Loss: 0.518803, Train accuracy: 0.846000, val accuracy: 0.744000\n",
      "Loss: 0.569917, Train accuracy: 0.835778, val accuracy: 0.730000\n",
      "Loss: 0.698078, Train accuracy: 0.831000, val accuracy: 0.724000\n",
      "Loss: 0.610536, Train accuracy: 0.874444, val accuracy: 0.748000\n"
     ]
    }
   ],
   "source": [
    "# TODO: Implement MomentumSGD.update function in optim.py\n",
    "\n",
    "model = TwoLayerNet(n_input = train_X.shape[1], n_output = 10, hidden_layer_size = 100, reg = 1e-4)\n",
    "dataset = Dataset(train_X, train_y, val_X, val_y)\n",
    "trainer = Trainer(model, dataset, MomentumSGD(), learning_rate=1e-1, learning_rate_decay=0.99)\n",
    "\n",
    "# You should see even better results than before!\n",
    "loss_history, train_history, val_history = trainer.fit()"
   ]
  },
  {
   "cell_type": "code",
   "execution_count": 152,
   "metadata": {},
   "outputs": [
    {
     "data": {
      "text/plain": [
       "[<matplotlib.lines.Line2D at 0x2189518ac18>]"
      ]
     },
     "execution_count": 152,
     "metadata": {},
     "output_type": "execute_result"
    },
    {
     "data": {
      "image/png": "[encoded data removed]",
      "text/plain": [
       "<Figure size 432x288 with 1 Axes>"
      ]
     },
     "metadata": {
      "needs_background": "light"
     },
     "output_type": "display_data"
    }
   ],
   "source": [
    "plt.plot(train_history)\n",
    "plt.plot(val_history)"
   ]
  },
  {
   "cell_type": "markdown",
   "metadata": {},
   "source": [
    "# Ну что, давайте уже тренировать сеть!"
   ]
  },
  {
   "cell_type": "markdown",
   "metadata": {},
   "source": [
    "## Последний тест - переобучимся (overfit) на маленьком наборе данных\n",
    "\n",
    "Хороший способ проверить, все ли реализовано корректно - переобучить сеть на маленьком наборе данных.  \n",
    "Наша модель обладает достаточной мощностью, чтобы приблизить маленький набор данных идеально, поэтому мы ожидаем, что на нем мы быстро дойдем до 100% точности на тренировочном наборе. \n",
    "\n",
    "Если этого не происходит, то где-то была допущена ошибка!"
   ]
  },
  {
   "cell_type": "code",
   "execution_count": 173,
   "metadata": {},
   "outputs": [
    {
     "name": "stdout",
     "output_type": "stream",
     "text": [
      "Loss: 2.335422, Train accuracy: 0.200000, val accuracy: 0.133333\n",
      "Loss: 2.335836, Train accuracy: 0.200000, val accuracy: 0.133333\n",
      "Loss: 2.306164, Train accuracy: 0.200000, val accuracy: 0.133333\n",
      "Loss: 2.317203, Train accuracy: 0.200000, val accuracy: 0.133333\n",
      "Loss: 2.292860, Train accuracy: 0.200000, val accuracy: 0.133333\n",
      "Loss: 2.241438, Train accuracy: 0.200000, val accuracy: 0.133333\n",
      "Loss: 2.261541, Train accuracy: 0.200000, val accuracy: 0.066667\n",
      "Loss: 2.178510, Train accuracy: 0.200000, val accuracy: 0.066667\n",
      "Loss: 2.146939, Train accuracy: 0.400000, val accuracy: 0.000000\n",
      "Loss: 2.390869, Train accuracy: 0.400000, val accuracy: 0.000000\n",
      "Loss: 2.155585, Train accuracy: 0.400000, val accuracy: 0.000000\n",
      "Loss: 1.846927, Train accuracy: 0.400000, val accuracy: 0.000000\n",
      "Loss: 2.118116, Train accuracy: 0.333333, val accuracy: 0.000000\n",
      "Loss: 2.148068, Train accuracy: 0.333333, val accuracy: 0.000000\n",
      "Loss: 1.983481, Train accuracy: 0.333333, val accuracy: 0.000000\n",
      "Loss: 1.977429, Train accuracy: 0.400000, val accuracy: 0.000000\n",
      "Loss: 2.188267, Train accuracy: 0.400000, val accuracy: 0.000000\n",
      "Loss: 1.887323, Train accuracy: 0.400000, val accuracy: 0.000000\n",
      "Loss: 1.984211, Train accuracy: 0.400000, val accuracy: 0.000000\n",
      "Loss: 1.538100, Train accuracy: 0.400000, val accuracy: 0.000000\n",
      "Loss: 2.004013, Train accuracy: 0.400000, val accuracy: 0.000000\n",
      "Loss: 1.496879, Train accuracy: 0.466667, val accuracy: 0.000000\n",
      "Loss: 2.104197, Train accuracy: 0.400000, val accuracy: 0.000000\n",
      "Loss: 1.381009, Train accuracy: 0.400000, val accuracy: 0.066667\n",
      "Loss: 1.326755, Train accuracy: 0.466667, val accuracy: 0.000000\n",
      "Loss: 1.180949, Train accuracy: 0.466667, val accuracy: 0.000000\n",
      "Loss: 1.599077, Train accuracy: 0.466667, val accuracy: 0.000000\n",
      "Loss: 1.596682, Train accuracy: 0.466667, val accuracy: 0.066667\n",
      "Loss: 1.629578, Train accuracy: 0.466667, val accuracy: 0.000000\n",
      "Loss: 1.590601, Train accuracy: 0.466667, val accuracy: 0.000000\n",
      "Loss: 2.237827, Train accuracy: 0.533333, val accuracy: 0.066667\n",
      "Loss: 1.774561, Train accuracy: 0.466667, val accuracy: 0.000000\n",
      "Loss: 1.574757, Train accuracy: 0.600000, val accuracy: 0.066667\n",
      "Loss: 1.593289, Train accuracy: 0.533333, val accuracy: 0.066667\n",
      "Loss: 1.411095, Train accuracy: 0.666667, val accuracy: 0.000000\n",
      "Loss: 1.675457, Train accuracy: 0.666667, val accuracy: 0.066667\n",
      "Loss: 1.803742, Train accuracy: 0.666667, val accuracy: 0.066667\n",
      "Loss: 1.336750, Train accuracy: 0.600000, val accuracy: 0.066667\n",
      "Loss: 1.564836, Train accuracy: 0.666667, val accuracy: 0.000000\n",
      "Loss: 1.591657, Train accuracy: 0.666667, val accuracy: 0.066667\n",
      "Loss: 1.529972, Train accuracy: 0.666667, val accuracy: 0.066667\n",
      "Loss: 1.447365, Train accuracy: 0.666667, val accuracy: 0.066667\n",
      "Loss: 1.227714, Train accuracy: 0.666667, val accuracy: 0.133333\n",
      "Loss: 1.710116, Train accuracy: 0.666667, val accuracy: 0.133333\n",
      "Loss: 1.715645, Train accuracy: 0.666667, val accuracy: 0.066667\n",
      "Loss: 1.696636, Train accuracy: 0.600000, val accuracy: 0.000000\n",
      "Loss: 1.800676, Train accuracy: 0.666667, val accuracy: 0.066667\n",
      "Loss: 1.293933, Train accuracy: 0.666667, val accuracy: 0.066667\n",
      "Loss: 1.659361, Train accuracy: 0.666667, val accuracy: 0.066667\n",
      "Loss: 1.926066, Train accuracy: 0.733333, val accuracy: 0.133333\n",
      "Loss: 1.182089, Train accuracy: 0.733333, val accuracy: 0.066667\n",
      "Loss: 1.135115, Train accuracy: 0.733333, val accuracy: 0.066667\n",
      "Loss: 1.367677, Train accuracy: 0.733333, val accuracy: 0.066667\n",
      "Loss: 1.030576, Train accuracy: 0.733333, val accuracy: 0.066667\n",
      "Loss: 1.321106, Train accuracy: 0.733333, val accuracy: 0.133333\n",
      "Loss: 1.573054, Train accuracy: 0.733333, val accuracy: 0.066667\n",
      "Loss: 0.894545, Train accuracy: 0.733333, val accuracy: 0.066667\n",
      "Loss: 1.248270, Train accuracy: 0.733333, val accuracy: 0.066667\n",
      "Loss: 1.683203, Train accuracy: 0.733333, val accuracy: 0.066667\n",
      "Loss: 0.937298, Train accuracy: 0.733333, val accuracy: 0.066667\n",
      "Loss: 1.407421, Train accuracy: 0.733333, val accuracy: 0.066667\n",
      "Loss: 1.344129, Train accuracy: 0.733333, val accuracy: 0.066667\n",
      "Loss: 1.618519, Train accuracy: 0.733333, val accuracy: 0.066667\n",
      "Loss: 1.574154, Train accuracy: 0.733333, val accuracy: 0.066667\n",
      "Loss: 1.351642, Train accuracy: 0.733333, val accuracy: 0.066667\n",
      "Loss: 1.345944, Train accuracy: 0.733333, val accuracy: 0.066667\n",
      "Loss: 1.290893, Train accuracy: 0.733333, val accuracy: 0.066667\n",
      "Loss: 1.374163, Train accuracy: 0.733333, val accuracy: 0.066667\n",
      "Loss: 1.319454, Train accuracy: 0.733333, val accuracy: 0.066667\n",
      "Loss: 1.327913, Train accuracy: 0.733333, val accuracy: 0.066667\n",
      "Loss: 1.343213, Train accuracy: 0.733333, val accuracy: 0.066667\n",
      "Loss: 1.314886, Train accuracy: 0.800000, val accuracy: 0.066667\n",
      "Loss: 1.633782, Train accuracy: 0.800000, val accuracy: 0.066667\n",
      "Loss: 1.312315, Train accuracy: 0.800000, val accuracy: 0.066667\n",
      "Loss: 1.283235, Train accuracy: 0.800000, val accuracy: 0.066667\n",
      "Loss: 1.356867, Train accuracy: 0.800000, val accuracy: 0.066667\n",
      "Loss: 1.346796, Train accuracy: 0.800000, val accuracy: 0.066667\n",
      "Loss: 1.271252, Train accuracy: 0.800000, val accuracy: 0.066667\n",
      "Loss: 1.935823, Train accuracy: 0.800000, val accuracy: 0.066667\n",
      "Loss: 1.632549, Train accuracy: 0.800000, val accuracy: 0.066667\n",
      "Loss: 1.603769, Train accuracy: 0.800000, val accuracy: 0.066667\n",
      "Loss: 1.508693, Train accuracy: 0.800000, val accuracy: 0.066667\n",
      "Loss: 1.470919, Train accuracy: 0.800000, val accuracy: 0.066667\n",
      "Loss: 1.339183, Train accuracy: 0.800000, val accuracy: 0.066667\n",
      "Loss: 1.746562, Train accuracy: 0.800000, val accuracy: 0.066667\n",
      "Loss: 1.400934, Train accuracy: 0.800000, val accuracy: 0.066667\n",
      "Loss: 1.205588, Train accuracy: 0.800000, val accuracy: 0.066667\n",
      "Loss: 1.802551, Train accuracy: 0.800000, val accuracy: 0.066667\n",
      "Loss: 0.989355, Train accuracy: 0.800000, val accuracy: 0.066667\n",
      "Loss: 1.303953, Train accuracy: 0.800000, val accuracy: 0.066667\n",
      "Loss: 1.318621, Train accuracy: 0.800000, val accuracy: 0.000000\n",
      "Loss: 1.168890, Train accuracy: 0.800000, val accuracy: 0.066667\n",
      "Loss: 1.647761, Train accuracy: 0.800000, val accuracy: 0.066667\n",
      "Loss: 1.495834, Train accuracy: 0.800000, val accuracy: 0.000000\n",
      "Loss: 1.439103, Train accuracy: 0.800000, val accuracy: 0.000000\n",
      "Loss: 1.109653, Train accuracy: 0.800000, val accuracy: 0.000000\n",
      "Loss: 1.535105, Train accuracy: 0.800000, val accuracy: 0.000000\n",
      "Loss: 1.125967, Train accuracy: 0.800000, val accuracy: 0.000000\n",
      "Loss: 1.361038, Train accuracy: 0.800000, val accuracy: 0.000000\n",
      "Loss: 1.435572, Train accuracy: 0.800000, val accuracy: 0.000000\n",
      "Loss: 1.555686, Train accuracy: 0.866667, val accuracy: 0.000000\n",
      "Loss: 1.310982, Train accuracy: 0.800000, val accuracy: 0.000000\n",
      "Loss: 1.022418, Train accuracy: 0.866667, val accuracy: 0.000000\n",
      "Loss: 1.333001, Train accuracy: 0.933333, val accuracy: 0.000000\n",
      "Loss: 1.378489, Train accuracy: 0.866667, val accuracy: 0.000000\n",
      "Loss: 0.994509, Train accuracy: 0.933333, val accuracy: 0.000000\n",
      "Loss: 1.625444, Train accuracy: 0.933333, val accuracy: 0.000000\n",
      "Loss: 1.574252, Train accuracy: 0.933333, val accuracy: 0.000000\n",
      "Loss: 1.032095, Train accuracy: 0.933333, val accuracy: 0.000000\n",
      "Loss: 1.244822, Train accuracy: 0.933333, val accuracy: 0.000000\n",
      "Loss: 1.289090, Train accuracy: 0.933333, val accuracy: 0.000000\n",
      "Loss: 1.386312, Train accuracy: 0.933333, val accuracy: 0.000000\n",
      "Loss: 1.401478, Train accuracy: 1.000000, val accuracy: 0.000000\n",
      "Loss: 1.498934, Train accuracy: 0.933333, val accuracy: 0.000000\n",
      "Loss: 1.265489, Train accuracy: 1.000000, val accuracy: 0.000000\n",
      "Loss: 1.346195, Train accuracy: 1.000000, val accuracy: 0.000000\n",
      "Loss: 1.440773, Train accuracy: 1.000000, val accuracy: 0.000000\n",
      "Loss: 1.335088, Train accuracy: 1.000000, val accuracy: 0.000000\n",
      "Loss: 1.420922, Train accuracy: 1.000000, val accuracy: 0.000000\n",
      "Loss: 1.397819, Train accuracy: 1.000000, val accuracy: 0.000000\n",
      "Loss: 1.483365, Train accuracy: 1.000000, val accuracy: 0.000000\n",
      "Loss: 1.214062, Train accuracy: 1.000000, val accuracy: 0.000000\n",
      "Loss: 1.314643, Train accuracy: 1.000000, val accuracy: 0.000000\n",
      "Loss: 1.213811, Train accuracy: 1.000000, val accuracy: 0.000000\n",
      "Loss: 1.558708, Train accuracy: 1.000000, val accuracy: 0.000000\n",
      "Loss: 1.408470, Train accuracy: 1.000000, val accuracy: 0.000000\n",
      "Loss: 1.529946, Train accuracy: 1.000000, val accuracy: 0.000000\n"
     ]
    },
    {
     "name": "stdout",
     "output_type": "stream",
     "text": [
      "Loss: 1.113337, Train accuracy: 1.000000, val accuracy: 0.000000\n",
      "Loss: 1.633323, Train accuracy: 1.000000, val accuracy: 0.000000\n",
      "Loss: 1.212356, Train accuracy: 1.000000, val accuracy: 0.000000\n",
      "Loss: 1.020956, Train accuracy: 1.000000, val accuracy: 0.000000\n",
      "Loss: 1.198218, Train accuracy: 1.000000, val accuracy: 0.000000\n",
      "Loss: 1.061999, Train accuracy: 1.000000, val accuracy: 0.000000\n",
      "Loss: 1.113001, Train accuracy: 1.000000, val accuracy: 0.000000\n",
      "Loss: 1.095860, Train accuracy: 1.000000, val accuracy: 0.000000\n",
      "Loss: 1.326146, Train accuracy: 1.000000, val accuracy: 0.000000\n",
      "Loss: 1.268917, Train accuracy: 1.000000, val accuracy: 0.000000\n",
      "Loss: 1.631590, Train accuracy: 1.000000, val accuracy: 0.000000\n",
      "Loss: 1.352995, Train accuracy: 1.000000, val accuracy: 0.000000\n",
      "Loss: 1.334259, Train accuracy: 1.000000, val accuracy: 0.000000\n",
      "Loss: 1.325281, Train accuracy: 1.000000, val accuracy: 0.000000\n",
      "Loss: 1.502998, Train accuracy: 1.000000, val accuracy: 0.000000\n",
      "Loss: 1.235834, Train accuracy: 1.000000, val accuracy: 0.000000\n",
      "Loss: 1.240440, Train accuracy: 1.000000, val accuracy: 0.000000\n",
      "Loss: 1.229138, Train accuracy: 1.000000, val accuracy: 0.000000\n",
      "Loss: 1.163358, Train accuracy: 1.000000, val accuracy: 0.000000\n",
      "Loss: 1.478136, Train accuracy: 1.000000, val accuracy: 0.000000\n",
      "Loss: 1.213914, Train accuracy: 1.000000, val accuracy: 0.000000\n",
      "Loss: 1.340116, Train accuracy: 1.000000, val accuracy: 0.000000\n",
      "Loss: 1.304430, Train accuracy: 1.000000, val accuracy: 0.000000\n"
     ]
    }
   ],
   "source": [
    "data_size = 15\n",
    "model = TwoLayerNet(n_input = train_X.shape[1], n_output = 10, hidden_layer_size = 100, reg = 1e-1)\n",
    "dataset = Dataset(train_X[:data_size], train_y[:data_size], val_X[:data_size], val_y[:data_size])\n",
    "trainer = Trainer(model, dataset, SGD(), learning_rate=1e-1, num_epochs=150, batch_size=5)\n",
    "\n",
    "# You should expect this to reach 1.0 training accuracy \n",
    "loss_history, train_history, val_history = trainer.fit()"
   ]
  },
  {
   "cell_type": "markdown",
   "metadata": {},
   "source": [
    "Теперь найдем гипепараметры, для которых этот процесс сходится быстрее.\n",
    "Если все реализовано корректно, то существуют параметры, при которых процесс сходится в **20** эпох или еще быстрее.\n",
    "Найдите их!"
   ]
  },
  {
   "cell_type": "code",
   "execution_count": 191,
   "metadata": {},
   "outputs": [
    {
     "name": "stdout",
     "output_type": "stream",
     "text": [
      "Loss: 2.303067, Train accuracy: 0.333333, val accuracy: 0.000000\n",
      "Loss: 2.289460, Train accuracy: 0.266667, val accuracy: 0.000000\n",
      "Loss: 2.263259, Train accuracy: 0.266667, val accuracy: 0.000000\n",
      "Loss: 2.215708, Train accuracy: 0.400000, val accuracy: 0.000000\n",
      "Loss: 2.109848, Train accuracy: 0.400000, val accuracy: 0.000000\n",
      "Loss: 1.889864, Train accuracy: 0.400000, val accuracy: 0.000000\n",
      "Loss: 1.702000, Train accuracy: 0.400000, val accuracy: 0.000000\n",
      "Loss: 1.512528, Train accuracy: 0.400000, val accuracy: 0.000000\n",
      "Loss: 1.454390, Train accuracy: 0.400000, val accuracy: 0.133333\n",
      "Loss: 1.653913, Train accuracy: 0.533333, val accuracy: 0.000000\n",
      "Loss: 1.070541, Train accuracy: 0.600000, val accuracy: 0.000000\n",
      "Loss: 1.077149, Train accuracy: 0.800000, val accuracy: 0.000000\n",
      "Loss: 0.701216, Train accuracy: 0.800000, val accuracy: 0.066667\n",
      "Loss: 0.521985, Train accuracy: 0.933333, val accuracy: 0.066667\n",
      "Loss: 0.389018, Train accuracy: 0.933333, val accuracy: 0.000000\n",
      "Loss: 0.266268, Train accuracy: 1.000000, val accuracy: 0.000000\n",
      "Loss: 0.127445, Train accuracy: 1.000000, val accuracy: 0.000000\n",
      "Loss: 0.050527, Train accuracy: 1.000000, val accuracy: 0.000000\n",
      "Loss: 0.019283, Train accuracy: 1.000000, val accuracy: 0.000000\n",
      "Loss: 0.011278, Train accuracy: 1.000000, val accuracy: 0.000000\n"
     ]
    }
   ],
   "source": [
    "# Now, tweak some hyper parameters and make it train to 1.0 accuracy in 20 epochs or less\n",
    "\n",
    "model = TwoLayerNet(n_input = train_X.shape[1], n_output = 10, hidden_layer_size = 1000, reg = 1e-4)\n",
    "dataset = Dataset(train_X[:data_size], train_y[:data_size], val_X[:data_size], val_y[:data_size])\n",
    "# TODO: Change any hyperparamers or optimizators to reach training accuracy in 20 epochs\n",
    "trainer = Trainer(model, dataset, MomentumSGD(), learning_rate=30*1e-1, num_epochs=20, batch_size=100)\n",
    "\n",
    "loss_history, train_history, val_history = trainer.fit()"
   ]
  },
  {
   "cell_type": "markdown",
   "metadata": {},
   "source": [
    "# Итак, основное мероприятие!\n",
    "\n",
    "Натренируйте лучшую нейросеть! Можно добавлять и изменять параметры, менять количество нейронов в слоях сети и как угодно экспериментировать. \n",
    "\n",
    "Добейтесь точности лучше **60%** на validation set."
   ]
  },
  {
   "cell_type": "code",
   "execution_count": 200,
   "metadata": {
    "scrolled": true
   },
   "outputs": [
    {
     "name": "stdout",
     "output_type": "stream",
     "text": [
      "Loss: 2.239107, Train accuracy: 0.196667, val accuracy: 0.206000\n",
      "Loss: 2.200414, Train accuracy: 0.196667, val accuracy: 0.206000\n",
      "Loss: 2.231689, Train accuracy: 0.196667, val accuracy: 0.206000\n",
      "Loss: 2.124754, Train accuracy: 0.196667, val accuracy: 0.206000\n",
      "Loss: 2.221385, Train accuracy: 0.202778, val accuracy: 0.214000\n",
      "Loss: 2.055921, Train accuracy: 0.261222, val accuracy: 0.260000\n",
      "Loss: 2.042444, Train accuracy: 0.278333, val accuracy: 0.277000\n",
      "Loss: 1.848463, Train accuracy: 0.313222, val accuracy: 0.323000\n",
      "Loss: 2.004664, Train accuracy: 0.376556, val accuracy: 0.369000\n",
      "Loss: 1.558758, Train accuracy: 0.406111, val accuracy: 0.414000\n",
      "Loss: 1.675841, Train accuracy: 0.459333, val accuracy: 0.445000\n",
      "Loss: 1.450256, Train accuracy: 0.523556, val accuracy: 0.506000\n",
      "Loss: 1.313915, Train accuracy: 0.569778, val accuracy: 0.564000\n",
      "Loss: 1.241962, Train accuracy: 0.601111, val accuracy: 0.589000\n",
      "Loss: 1.407942, Train accuracy: 0.625222, val accuracy: 0.623000\n",
      "Loss: 1.186986, Train accuracy: 0.644000, val accuracy: 0.631000\n",
      "Loss: 1.082099, Train accuracy: 0.661556, val accuracy: 0.646000\n",
      "Loss: 1.066962, Train accuracy: 0.679000, val accuracy: 0.656000\n",
      "Loss: 1.176133, Train accuracy: 0.686778, val accuracy: 0.671000\n",
      "Loss: 1.174516, Train accuracy: 0.699222, val accuracy: 0.670000\n",
      "best validation accuracy achieved: 0.671000\n"
     ]
    }
   ],
   "source": [
    "# Let's train the best one-hidden-layer network we can\n",
    "\n",
    "learning_rates = 1e-4\n",
    "reg_strength = 1e-3\n",
    "learning_rate_decay = 0.999\n",
    "hidden_layer_size = 128\n",
    "num_epochs = 200\n",
    "batch_size = 64\n",
    "\n",
    "best_classifier = None\n",
    "best_val_accuracy = None\n",
    "\n",
    "loss_history = []\n",
    "train_history = []\n",
    "val_history = []\n",
    "\n",
    "# TODO find the best hyperparameters to train the network\n",
    "# Don't hesitate to add new values to the arrays above, perform experiments, use any tricks you want\n",
    "# You should expect to get to at least 40% of valudation accuracy\n",
    "# Save loss/train/history of the best classifier to the variables above\n",
    "model = TwoLayerNet(n_input = train_X.shape[1], n_output = 10, hidden_layer_size = 100, reg = 1e-4)\n",
    "dataset = Dataset(train_X, train_y, val_X, val_y)\n",
    "# TODO: Change any hyperparamers or optimizators to reach training accuracy in 20 epochs\n",
    "trainer = Trainer(model, dataset, MomentumSGD(), learning_rate=1e-1, num_epochs=20, batch_size=100)\n",
    "\n",
    "loss_history, train_history, val_history = trainer.fit()\n",
    "\n",
    "print('best validation accuracy achieved: %f' % max(val_history))"
   ]
  },
  {
   "cell_type": "code",
   "execution_count": 202,
   "metadata": {},
   "outputs": [
    {
     "data": {
      "image/png": "[encoded data removed]",
      "text/plain": [
       "<Figure size 1080x504 with 2 Axes>"
      ]
     },
     "metadata": {
      "needs_background": "light"
     },
     "output_type": "display_data"
    }
   ],
   "source": [
    "plt.figure(figsize=(15, 7))\n",
    "plt.subplot(211)\n",
    "plt.title(\"Loss\")\n",
    "plt.plot(loss_history)\n",
    "plt.subplot(212)\n",
    "plt.title(\"Train/validation accuracy\")\n",
    "plt.plot(train_history)\n",
    "plt.plot(val_history)\n",
    "best_classifier = model"
   ]
  },
  {
   "cell_type": "markdown",
   "metadata": {},
   "source": [
    "# Как обычно, посмотрим, как наша лучшая модель работает на тестовых данных"
   ]
  },
  {
   "cell_type": "code",
   "execution_count": 203,
   "metadata": {},
   "outputs": [
    {
     "name": "stdout",
     "output_type": "stream",
     "text": [
      "Neural net test set accuracy: 0.635000\n"
     ]
    }
   ],
   "source": [
    "test_pred = best_classifier.predict(test_X)\n",
    "test_accuracy = multiclass_accuracy(test_pred, test_y)\n",
    "print('Neural net test set accuracy: %f' % (test_accuracy, ))"
   ]
  }
 ],
 "metadata": {
  "kernelspec": {
   "display_name": "Python 3",
   "language": "python",
   "name": "python3"
  },
  "language_info": {
   "codemirror_mode": {
    "name": "ipython",
    "version": 3
   },
   "file_extension": ".py",
   "mimetype": "text/x-python",
   "name": "python",
   "nbconvert_exporter": "python",
   "pygments_lexer": "ipython3",
   "version": "3.7.3"
  }
 },
 "nbformat": 4,
 "nbformat_minor": 2
}
