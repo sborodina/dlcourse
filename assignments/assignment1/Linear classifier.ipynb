{
 "cells": [
  {
   "cell_type": "markdown",
   "metadata": {},
   "source": [
    "# Задание 1.2 - Линейный классификатор (Linear classifier)\n",
    "\n",
    "В этом задании мы реализуем другую модель машинного обучения - линейный классификатор. Линейный классификатор подбирает для каждого класса веса, на которые нужно умножить значение каждого признака и потом сложить вместе.\n",
    "Тот класс, у которого эта сумма больше, и является предсказанием модели.\n",
    "\n",
    "В этом задании вы:\n",
    "- потренируетесь считать градиенты различных многомерных функций\n",
    "- реализуете подсчет градиентов через линейную модель и функцию потерь softmax\n",
    "- реализуете процесс тренировки линейного классификатора\n",
    "- подберете параметры тренировки на практике\n",
    "\n",
    "На всякий случай, еще раз ссылка на туториал по numpy:  \n",
    "http://cs231n.github.io/python-numpy-tutorial/"
   ]
  },
  {
   "cell_type": "code",
   "execution_count": 2,
   "metadata": {},
   "outputs": [],
   "source": [
    "import numpy as np\n",
    "import matplotlib.pyplot as plt\n",
    "import scipy\n",
    "\n",
    "%matplotlib inline\n",
    "\n",
    "%load_ext autoreload\n",
    "%autoreload 2"
   ]
  },
  {
   "cell_type": "code",
   "execution_count": 3,
   "metadata": {},
   "outputs": [],
   "source": [
    "from dataset import load_svhn, random_split_train_val\n",
    "from gradient_check import check_gradient\n",
    "from metrics import multiclass_accuracy \n",
    "import linear_classifer"
   ]
  },
  {
   "cell_type": "markdown",
   "metadata": {},
   "source": [
    "# Как всегда, первым делом загружаем данные\n",
    "\n",
    "Мы будем использовать все тот же SVHN."
   ]
  },
  {
   "cell_type": "code",
   "execution_count": 4,
   "metadata": {},
   "outputs": [
    {
     "data": {
      "text/plain": [
       "array([2., 5., 8.])"
      ]
     },
     "execution_count": 4,
     "metadata": {},
     "output_type": "execute_result"
    }
   ],
   "source": [
    "np.mean([[1,2,3],  [4,5,6], [7,8,9]], axis=1)"
   ]
  },
  {
   "cell_type": "code",
   "execution_count": 5,
   "metadata": {},
   "outputs": [
    {
     "name": "stdout",
     "output_type": "stream",
     "text": [
      "(10000, 32, 32, 3) (1000, 32, 32, 3)\n",
      "(10000, 3072) (1000, 3072)\n",
      "(3072,)\n",
      "(10000, 3073)\n",
      "(9000, 3073) (1000, 3073)\n"
     ]
    }
   ],
   "source": [
    "def prepare_for_linear_classifier(train_X, test_X):\n",
    "    print(train_X.shape, test_X.shape)\n",
    "    train_flat = train_X.reshape(train_X.shape[0], -1).astype(np.float) / 255.0\n",
    "    test_flat = test_X.reshape(test_X.shape[0], -1).astype(np.float) / 255.0\n",
    "    print(train_flat.shape, test_flat.shape)\n",
    "    \n",
    "    # Subtract mean\n",
    "    mean_image = np.mean(train_flat, axis = 0)\n",
    "    print(mean_image.shape)\n",
    "    train_flat -= mean_image\n",
    "    test_flat -= mean_image\n",
    "    \n",
    "    # Add another channel with ones as a bias term\n",
    "    train_flat_with_ones = np.hstack([train_flat, np.ones((train_X.shape[0], 1))])\n",
    "    print(train_flat_with_ones.shape)\n",
    "    test_flat_with_ones = np.hstack([test_flat, np.ones((test_X.shape[0], 1))])    \n",
    "    return train_flat_with_ones, test_flat_with_ones\n",
    "    \n",
    "train_X, train_y, test_X, test_y = load_svhn(\"data\", max_train=10000, max_test=1000)    \n",
    "train_X, test_X = prepare_for_linear_classifier(train_X, test_X)\n",
    "# Split train into train and val\n",
    "train_X, train_y, val_X, val_y = random_split_train_val(train_X, train_y, num_val = 1000)\n",
    "print(train_X.shape, val_X.shape)"
   ]
  },
  {
   "cell_type": "markdown",
   "metadata": {},
   "source": [
    "# Играемся с градиентами!\n",
    "\n",
    "В этом курсе мы будем писать много функций, которые вычисляют градиенты аналитическим методом.\n",
    "\n",
    "Все функции, в которых мы будем вычислять градиенты, будут написаны по одной и той же схеме.  \n",
    "Они будут получать на вход точку, где нужно вычислить значение и градиент функции, а на выходе будут выдавать кортеж (tuple) из двух значений - собственно значения функции в этой точке (всегда одно число) и аналитического значения градиента в той же точке (той же размерности, что и вход).\n",
    "```\n",
    "def f(x):\n",
    "    \"\"\"\n",
    "    Computes function and analytic gradient at x\n",
    "    \n",
    "    x: np array of float, input to the function\n",
    "    \n",
    "    Returns:\n",
    "    value: float, value of the function \n",
    "    grad: np array of float, same shape as x\n",
    "    \"\"\"\n",
    "    ...\n",
    "    \n",
    "    return value, grad\n",
    "```\n",
    "\n",
    "Необходимым инструментом во время реализации кода, вычисляющего градиенты, является функция его проверки. Эта функция вычисляет градиент численным методом и сверяет результат с градиентом, вычисленным аналитическим методом.\n",
    "\n",
    "Мы начнем с того, чтобы реализовать вычисление численного градиента (numeric gradient) в функции `check_gradient` в `gradient_check.py`. Эта функция будет принимать на вход функции формата, заданного выше, использовать значение `value` для вычисления численного градиента и сравнит его с аналитическим - они должны сходиться.\n",
    "\n",
    "Напишите часть функции, которая вычисляет градиент с помощью численной производной для каждой координаты. Для вычисления производной используйте так называемую two-point formula (https://en.wikipedia.org/wiki/Numerical_differentiation):\n",
    "\n",
    "![image](https://wikimedia.org/api/rest_v1/media/math/render/svg/22fc2c0a66c63560a349604f8b6b39221566236d)\n",
    "\n",
    "Все функции приведенные в следующей клетке должны проходить gradient check."
   ]
  },
  {
   "cell_type": "code",
   "execution_count": 6,
   "metadata": {},
   "outputs": [
    {
     "data": {
      "text/plain": [
       "[1, 3, 3]"
      ]
     },
     "execution_count": 6,
     "metadata": {},
     "output_type": "execute_result"
    }
   ],
   "source": [
    "x = [1,2,3]\n",
    "ix = (1)\n",
    "x[ix] = x[ix] + 1\n",
    "x"
   ]
  },
  {
   "cell_type": "code",
   "execution_count": 7,
   "metadata": {
    "scrolled": true
   },
   "outputs": [
    {
     "name": "stdout",
     "output_type": "stream",
     "text": [
      "9.0 [6.]\n",
      "Gradient check passed!\n",
      "5.0 [1. 1.]\n",
      "Gradient check passed!\n",
      "6.0 [[1. 1.]\n",
      " [1. 1.]]\n",
      "Gradient check passed!\n"
     ]
    },
    {
     "data": {
      "text/plain": [
       "True"
      ]
     },
     "execution_count": 7,
     "metadata": {},
     "output_type": "execute_result"
    }
   ],
   "source": [
    "# TODO: Implement check_gradient function in gradient_check.py\n",
    "# All the functions below should pass the gradient check\n",
    "\n",
    "def square(x):\n",
    "    return float(x*x), 2*x\n",
    "\n",
    "check_gradient(square, np.array([3.0]))\n",
    "\n",
    "def array_sum(x):\n",
    "    assert x.shape == (2,), x.shape\n",
    "    return np.sum(x), np.ones_like(x)\n",
    "\n",
    "check_gradient(array_sum, np.array([3.0, 2.0]))\n",
    "\n",
    "def array_2d_sum(x):\n",
    "    assert x.shape == (2,2)\n",
    "    return np.sum(x), np.ones_like(x)\n",
    "\n",
    "check_gradient(array_2d_sum, np.array([[3.0, 2.0], [1.0, 0.0]]))"
   ]
  },
  {
   "cell_type": "markdown",
   "metadata": {},
   "source": [
    "## Начинаем писать свои функции, считающие аналитический градиент\n",
    "\n",
    "Теперь реализуем функцию softmax, которая получает на вход оценки для каждого класса и преобразует их в вероятности от 0 до 1:\n",
    "![image](https://wikimedia.org/api/rest_v1/media/math/render/svg/e348290cf48ddbb6e9a6ef4e39363568b67c09d3)\n",
    "\n",
    "**Важно:** Практический аспект вычисления этой функции заключается в том, что в ней учавствует вычисление экспоненты от потенциально очень больших чисел - это может привести к очень большим значениям в числителе и знаменателе за пределами диапазона float.\n",
    "\n",
    "К счастью, у этой проблемы есть простое решение -- перед вычислением softmax вычесть из всех оценок максимальное значение среди всех оценок:\n",
    "```\n",
    "predictions -= np.max(predictions)\n",
    "```\n",
    "(подробнее здесь - http://cs231n.github.io/linear-classify/#softmax, секция `Practical issues: Numeric stability`)"
   ]
  },
  {
   "cell_type": "code",
   "execution_count": 8,
   "metadata": {},
   "outputs": [
    {
     "name": "stdout",
     "output_type": "stream",
     "text": [
      "[[2.06106005e-09 4.53978686e-05 9.99954600e-01]\n",
      " [2.78946809e-10 9.99999999e-01 2.78946809e-10]]\n"
     ]
    }
   ],
   "source": [
    "# TODO Implement softmax and cross-entropy for single sample\n",
    "probs = linear_classifer.softmax(np.array([[-10, 0, 10], [12, 34, 12]]))\n",
    "print(probs)\n",
    "\n",
    "# Make sure it works for big numbers too!\n",
    "probs = linear_classifer.softmax(np.array([1000, 0, 0]))\n",
    "assert np.isclose(probs[0], 1.0)"
   ]
  },
  {
   "cell_type": "markdown",
   "metadata": {},
   "source": [
    "Кроме этого, мы реализуем cross-entropy loss, которую мы будем использовать как функцию ошибки (error function).\n",
    "В общем виде cross-entropy определена следующим образом:\n",
    "![image](https://wikimedia.org/api/rest_v1/media/math/render/svg/0cb6da032ab424eefdca0884cd4113fe578f4293)\n",
    "\n",
    "где x - все классы, p(x) - истинная вероятность принадлежности сэмпла классу x, а q(x) - вероятность принадлежности классу x, предсказанная моделью.  \n",
    "В нашем случае сэмпл принадлежит только одному классу, индекс которого передается функции. Для него p(x) равна 1, а для остальных классов - 0. \n",
    "\n",
    "Это позволяет реализовать функцию проще!"
   ]
  },
  {
   "cell_type": "code",
   "execution_count": 9,
   "metadata": {},
   "outputs": [
    {
     "name": "stdout",
     "output_type": "stream",
     "text": [
      "[1.00067604e+01 5.00676044e+00 6.76044355e-03]\n"
     ]
    },
    {
     "data": {
      "text/plain": [
       "5.006760443547122"
      ]
     },
     "execution_count": 9,
     "metadata": {},
     "output_type": "execute_result"
    }
   ],
   "source": [
    "probs = linear_classifer.softmax(np.array([-5, 0, 5]))\n",
    "print(-np.log(probs))\n",
    "linear_classifer.cross_entropy_loss(probs, 1)"
   ]
  },
  {
   "cell_type": "markdown",
   "metadata": {},
   "source": [
    "После того как мы реализовали сами функции, мы можем реализовать градиент.\n",
    "\n",
    "Оказывается, что вычисление градиента становится гораздо проще, если объединить эти функции в одну, которая сначала вычисляет вероятности через softmax, а потом использует их для вычисления функции ошибки через cross-entropy loss.\n",
    "\n",
    "Эта функция `softmax_with_cross_entropy` будет возвращает и значение ошибки, и градиент по входным параметрам. Мы проверим корректность реализации с помощью `check_gradient`."
   ]
  },
  {
   "cell_type": "code",
   "execution_count": 10,
   "metadata": {},
   "outputs": [
    {
     "data": {
      "text/plain": [
       "array([3, 5, 7])"
      ]
     },
     "execution_count": 10,
     "metadata": {},
     "output_type": "execute_result"
    }
   ],
   "source": [
    "a = np.array([[1,2,3],[4,5,6],[7,8,9]])\n",
    "b = np.array([2, 1, 0])\n",
    "a[range(len(b)), b]"
   ]
  },
  {
   "cell_type": "code",
   "execution_count": 11,
   "metadata": {},
   "outputs": [
    {
     "name": "stdout",
     "output_type": "stream",
     "text": [
      "1.551444713932051 [ 0.57611688 -0.78805844  0.21194156]\n",
      "Gradient check passed!\n"
     ]
    },
    {
     "data": {
      "text/plain": [
       "True"
      ]
     },
     "execution_count": 11,
     "metadata": {},
     "output_type": "execute_result"
    }
   ],
   "source": [
    "# TODO Implement combined function or softmax and cross entropy and produces gradient\n",
    "loss, grad = linear_classifer.softmax_with_cross_entropy(np.array([1, 0, 0]), 1)\n",
    "check_gradient(lambda x: linear_classifer.softmax_with_cross_entropy(x, 1), np.array([1, 0, 0], np.float))"
   ]
  },
  {
   "cell_type": "markdown",
   "metadata": {},
   "source": [
    "В качестве метода тренировки мы будем использовать стохастический градиентный спуск (stochastic gradient descent или SGD), который работает с батчами сэмплов. \n",
    "\n",
    "Поэтому все наши фукнции будут получать не один пример, а батч, то есть входом будет не вектор из `num_classes` оценок, а матрица размерности `batch_size, num_classes`. Индекс примера в батче всегда будет первым измерением.\n",
    "\n",
    "Следующий шаг - переписать наши функции так, чтобы они поддерживали батчи.\n",
    "\n",
    "Финальное значение функции ошибки должно остаться числом, и оно равно среднему значению ошибки среди всех примеров в батче."
   ]
  },
  {
   "cell_type": "code",
   "execution_count": 12,
   "metadata": {
    "scrolled": false
   },
   "outputs": [
    {
     "name": "stdout",
     "output_type": "stream",
     "text": [
      "3.5797242232074917 [[ 0.20603191  0.56005279 -0.97211661  0.20603191]]\n",
      "Gradient check passed!\n",
      "2.160204920616996 [[ 0.22715085  0.01130918  0.01130918 -0.2497692 ]\n",
      " [ 0.03641059  0.09897425  0.09897425 -0.23435909]\n",
      " [ 0.05072101  0.13787399 -0.32646899  0.13787399]]\n",
      "Gradient check passed!\n"
     ]
    }
   ],
   "source": [
    "# TODO Extend combined function so it can receive a 2d array with batch of samples\n",
    "np.random.seed(42)\n",
    "# Test batch_size = 1\n",
    "num_classes = 4\n",
    "batch_size = 1\n",
    "predictions = np.random.randint(-1, 3, size=(batch_size, num_classes)).astype(np.float)\n",
    "target_index = np.random.randint(0, num_classes, size=(batch_size, 1)).astype(np.int)\n",
    "check_gradient(lambda x: linear_classifer.softmax_with_cross_entropy(x, target_index), predictions)\n",
    "\n",
    "# Test batch_size = 3\n",
    "num_classes = 4\n",
    "batch_size = 3\n",
    "predictions = np.random.randint(-1, 3, size=(batch_size, num_classes)).astype(np.float)\n",
    "target_index = np.random.randint(0, num_classes, size=(batch_size, )).astype(np.int) #///ERRRROOORRRR\n",
    "check_gradient(lambda x: linear_classifer.softmax_with_cross_entropy(x, target_index), predictions)\n",
    "\n",
    "# Make sure maximum subtraction for numberic stability is done separately for every sample in the batch\n",
    "probs = linear_classifer.softmax(np.array([[20,0,0], [1000, 0, 0]]))\n",
    "assert np.all(np.isclose(probs[:, 0], 1.0))"
   ]
  },
  {
   "cell_type": "code",
   "execution_count": 13,
   "metadata": {},
   "outputs": [
    {
     "name": "stdout",
     "output_type": "stream",
     "text": [
      "[[1.50321472]\n",
      " [1.50321472]\n",
      " [1.18512235]]\n"
     ]
    },
    {
     "data": {
      "text/plain": [
       "array([[0.09003057, 0.24472847, 0.66524096],\n",
       "       [0.09003057, 0.24472847, 0.66524096],\n",
       "       [0.04201007, 0.1141952 , 0.84379473]])"
      ]
     },
     "execution_count": 13,
     "metadata": {},
     "output_type": "execute_result"
    }
   ],
   "source": [
    "a = np.array([[1,2,3],[4,5,6],[7,8,10]])\n",
    "a -= np.max(a, axis=1).reshape((a.shape[0],-1))\n",
    "print(np.sum(np.exp(a), axis=1).reshape((3,1)))\n",
    "np.exp(a)/np.sum(np.exp(a), axis=1).reshape((3,1))"
   ]
  },
  {
   "cell_type": "markdown",
   "metadata": {},
   "source": [
    "### Наконец, реализуем сам линейный классификатор!\n",
    "\n",
    "softmax и cross-entropy получают на вход оценки, которые выдает линейный классификатор.\n",
    "\n",
    "Он делает это очень просто: для каждого класса есть набор весов, на которые надо умножить пиксели картинки и сложить. Получившееся число и является оценкой класса, идущей на вход softmax.\n",
    "\n",
    "Таким образом, линейный классификатор можно представить как умножение вектора с пикселями на матрицу W размера `num_features, num_classes`. Такой подход легко расширяется на случай батча векторов с пикселями X размера `batch_size, num_features`:\n",
    "\n",
    "`predictions = X * W`, где `*` - матричное умножение.\n",
    "\n",
    "Реализуйте функцию подсчета линейного классификатора и градиентов по весам `linear_softmax` в файле `linear_classifer.py`"
   ]
  },
  {
   "cell_type": "code",
   "execution_count": 14,
   "metadata": {},
   "outputs": [
    {
     "name": "stdout",
     "output_type": "stream",
     "text": [
      "1.0877576813083574 [[-0.44039854  0.44039854]\n",
      " [-0.4166856   0.4166856 ]\n",
      " [ 0.46411148 -0.46411148]]\n",
      "Gradient check passed!\n"
     ]
    },
    {
     "data": {
      "text/plain": [
       "True"
      ]
     },
     "execution_count": 14,
     "metadata": {},
     "output_type": "execute_result"
    }
   ],
   "source": [
    "# TODO Implement linear_softmax function that uses softmax with cross-entropy for linear classifier\n",
    "batch_size = 2\n",
    "num_classes = 2\n",
    "num_features = 3\n",
    "np.random.seed(42)\n",
    "W = np.random.randint(-1, 3, size=(num_features, num_classes)).astype(np.float)\n",
    "X = np.random.randint(-1, 3, size=(batch_size, num_features)).astype(np.float)\n",
    "target_index = np.ones(batch_size, dtype=np.int)\n",
    "\n",
    "loss, dW = linear_classifer.linear_softmax(X, W, target_index)\n",
    "check_gradient(lambda w: linear_classifer.linear_softmax(X, w, target_index), W)"
   ]
  },
  {
   "cell_type": "markdown",
   "metadata": {},
   "source": [
    "### И теперь регуляризация\n",
    "\n",
    "Мы будем использовать L2 regularization для весов как часть общей функции ошибки.\n",
    "\n",
    "Напомним, L2 regularization определяется как\n",
    "\n",
    "l2_reg_loss = regularization_strength * sum<sub>ij</sub> W[i, j]<sup>2</sup>\n",
    "\n",
    "Реализуйте функцию для его вычисления и вычисления соотвествующих градиентов."
   ]
  },
  {
   "cell_type": "code",
   "execution_count": 15,
   "metadata": {},
   "outputs": [
    {
     "name": "stdout",
     "output_type": "stream",
     "text": [
      "0.11999999999999998 [[ 0.02  0.04]\n",
      " [-0.02  0.02]\n",
      " [ 0.02  0.04]]\n",
      "Gradient check passed!\n"
     ]
    },
    {
     "data": {
      "text/plain": [
       "True"
      ]
     },
     "execution_count": 15,
     "metadata": {},
     "output_type": "execute_result"
    }
   ],
   "source": [
    "# TODO Implement l2_regularization function that implements loss for L2 regularization\n",
    "linear_classifer.l2_regularization(W, 0.01)\n",
    "check_gradient(lambda w: linear_classifer.l2_regularization(w, 0.01), W)"
   ]
  },
  {
   "cell_type": "markdown",
   "metadata": {},
   "source": [
    "# Тренировка!"
   ]
  },
  {
   "cell_type": "markdown",
   "metadata": {},
   "source": [
    "Градиенты в порядке, реализуем процесс тренировки!"
   ]
  },
  {
   "cell_type": "code",
   "execution_count": 69,
   "metadata": {
    "scrolled": false
   },
   "outputs": [
    {
     "name": "stdout",
     "output_type": "stream",
     "text": [
      "[9 9 2 ... 4 2 7]\n",
      "(9000, 3073)\n",
      "(300,)\n",
      "(300,)\n",
      "(300,)\n",
      "(300,)\n",
      "(300,)\n",
      "(300,)\n",
      "(300,)\n",
      "(300,)\n",
      "(300,)\n",
      "(300,)\n",
      "(300,)\n",
      "(300,)\n",
      "(300,)\n",
      "(300,)\n",
      "(300,)\n",
      "(300,)\n",
      "(300,)\n",
      "(300,)\n",
      "(300,)\n",
      "(300,)\n",
      "(300,)\n",
      "(300,)\n",
      "(300,)\n",
      "(300,)\n",
      "(300,)\n",
      "(300,)\n",
      "(300,)\n",
      "(300,)\n",
      "(300,)\n",
      "(300,)\n",
      "Epoch 0, loss: 2.396655\n",
      "(9000, 3073)\n",
      "(300,)\n",
      "(300,)\n",
      "(300,)\n",
      "(300,)\n",
      "(300,)\n",
      "(300,)\n",
      "(300,)\n",
      "(300,)\n",
      "(300,)\n",
      "(300,)\n",
      "(300,)\n",
      "(300,)\n",
      "(300,)\n",
      "(300,)\n",
      "(300,)\n",
      "(300,)\n",
      "(300,)\n",
      "(300,)\n",
      "(300,)\n",
      "(300,)\n",
      "(300,)\n",
      "(300,)\n",
      "(300,)\n",
      "(300,)\n",
      "(300,)\n",
      "(300,)\n",
      "(300,)\n",
      "(300,)\n",
      "(300,)\n",
      "(300,)\n",
      "Epoch 1, loss: 2.329534\n",
      "(9000, 3073)\n",
      "(300,)\n",
      "(300,)\n",
      "(300,)\n",
      "(300,)\n",
      "(300,)\n",
      "(300,)\n",
      "(300,)\n",
      "(300,)\n",
      "(300,)\n",
      "(300,)\n",
      "(300,)\n",
      "(300,)\n",
      "(300,)\n",
      "(300,)\n",
      "(300,)\n",
      "(300,)\n",
      "(300,)\n",
      "(300,)\n",
      "(300,)\n",
      "(300,)\n",
      "(300,)\n",
      "(300,)\n",
      "(300,)\n",
      "(300,)\n",
      "(300,)\n",
      "(300,)\n",
      "(300,)\n",
      "(300,)\n",
      "(300,)\n",
      "(300,)\n",
      "Epoch 2, loss: 2.310666\n",
      "(9000, 3073)\n",
      "(300,)\n",
      "(300,)\n",
      "(300,)\n",
      "(300,)\n",
      "(300,)\n",
      "(300,)\n",
      "(300,)\n",
      "(300,)\n",
      "(300,)\n",
      "(300,)\n",
      "(300,)\n",
      "(300,)\n",
      "(300,)\n",
      "(300,)\n",
      "(300,)\n",
      "(300,)\n",
      "(300,)\n",
      "(300,)\n",
      "(300,)\n",
      "(300,)\n",
      "(300,)\n",
      "(300,)\n",
      "(300,)\n",
      "(300,)\n",
      "(300,)\n",
      "(300,)\n",
      "(300,)\n",
      "(300,)\n",
      "(300,)\n",
      "(300,)\n",
      "Epoch 3, loss: 2.303726\n",
      "(9000, 3073)\n",
      "(300,)\n",
      "(300,)\n",
      "(300,)\n",
      "(300,)\n",
      "(300,)\n",
      "(300,)\n",
      "(300,)\n",
      "(300,)\n",
      "(300,)\n",
      "(300,)\n",
      "(300,)\n",
      "(300,)\n",
      "(300,)\n",
      "(300,)\n",
      "(300,)\n",
      "(300,)\n",
      "(300,)\n",
      "(300,)\n",
      "(300,)\n",
      "(300,)\n",
      "(300,)\n",
      "(300,)\n",
      "(300,)\n",
      "(300,)\n",
      "(300,)\n",
      "(300,)\n",
      "(300,)\n",
      "(300,)\n",
      "(300,)\n",
      "(300,)\n",
      "Epoch 4, loss: 2.302049\n",
      "(9000, 3073)\n",
      "(300,)\n",
      "(300,)\n",
      "(300,)\n",
      "(300,)\n",
      "(300,)\n",
      "(300,)\n",
      "(300,)\n",
      "(300,)\n",
      "(300,)\n",
      "(300,)\n",
      "(300,)\n",
      "(300,)\n",
      "(300,)\n",
      "(300,)\n",
      "(300,)\n",
      "(300,)\n",
      "(300,)\n",
      "(300,)\n",
      "(300,)\n",
      "(300,)\n",
      "(300,)\n",
      "(300,)\n",
      "(300,)\n",
      "(300,)\n",
      "(300,)\n",
      "(300,)\n",
      "(300,)\n",
      "(300,)\n",
      "(300,)\n",
      "(300,)\n",
      "Epoch 5, loss: 2.302346\n",
      "(9000, 3073)\n",
      "(300,)\n",
      "(300,)\n",
      "(300,)\n",
      "(300,)\n",
      "(300,)\n",
      "(300,)\n",
      "(300,)\n",
      "(300,)\n",
      "(300,)\n",
      "(300,)\n",
      "(300,)\n",
      "(300,)\n",
      "(300,)\n",
      "(300,)\n",
      "(300,)\n",
      "(300,)\n",
      "(300,)\n",
      "(300,)\n",
      "(300,)\n",
      "(300,)\n",
      "(300,)\n",
      "(300,)\n",
      "(300,)\n",
      "(300,)\n",
      "(300,)\n",
      "(300,)\n",
      "(300,)\n",
      "(300,)\n",
      "(300,)\n",
      "(300,)\n",
      "Epoch 6, loss: 2.301423\n",
      "(9000, 3073)\n",
      "(300,)\n",
      "(300,)\n",
      "(300,)\n",
      "(300,)\n",
      "(300,)\n",
      "(300,)\n",
      "(300,)\n",
      "(300,)\n",
      "(300,)\n",
      "(300,)\n",
      "(300,)\n",
      "(300,)\n",
      "(300,)\n",
      "(300,)\n",
      "(300,)\n",
      "(300,)\n",
      "(300,)\n",
      "(300,)\n",
      "(300,)\n",
      "(300,)\n",
      "(300,)\n",
      "(300,)\n",
      "(300,)\n",
      "(300,)\n",
      "(300,)\n",
      "(300,)\n",
      "(300,)\n",
      "(300,)\n",
      "(300,)\n",
      "(300,)\n",
      "Epoch 7, loss: 2.301267\n",
      "(9000, 3073)\n",
      "(300,)\n",
      "(300,)\n",
      "(300,)\n",
      "(300,)\n",
      "(300,)\n",
      "(300,)\n",
      "(300,)\n",
      "(300,)\n",
      "(300,)\n",
      "(300,)\n",
      "(300,)\n",
      "(300,)\n",
      "(300,)\n",
      "(300,)\n",
      "(300,)\n",
      "(300,)\n",
      "(300,)\n",
      "(300,)\n",
      "(300,)\n",
      "(300,)\n",
      "(300,)\n",
      "(300,)\n",
      "(300,)\n",
      "(300,)\n",
      "(300,)\n",
      "(300,)\n",
      "(300,)\n",
      "(300,)\n",
      "(300,)\n",
      "(300,)\n",
      "Epoch 8, loss: 2.301885\n",
      "(9000, 3073)\n",
      "(300,)\n",
      "(300,)\n",
      "(300,)\n",
      "(300,)\n",
      "(300,)\n",
      "(300,)\n",
      "(300,)\n",
      "(300,)\n",
      "(300,)\n",
      "(300,)\n",
      "(300,)\n",
      "(300,)\n",
      "(300,)\n",
      "(300,)\n",
      "(300,)\n",
      "(300,)\n",
      "(300,)\n",
      "(300,)\n",
      "(300,)\n",
      "(300,)\n",
      "(300,)\n",
      "(300,)\n",
      "(300,)\n",
      "(300,)\n",
      "(300,)\n",
      "(300,)\n",
      "(300,)\n",
      "(300,)\n",
      "(300,)\n",
      "(300,)\n",
      "Epoch 9, loss: 2.302094\n"
     ]
    }
   ],
   "source": [
    "# TODO: Implement LinearSoftmaxClassifier.fit function\n",
    "print(train_y)\n",
    "classifier = linear_classifer.LinearSoftmaxClassifier()\n",
    "loss_history = classifier.fit(train_X, train_y, epochs=10, learning_rate=1e-3, batch_size=300, reg=1e1)\n"
   ]
  },
  {
   "cell_type": "code",
   "execution_count": 148,
   "metadata": {},
   "outputs": [
    {
     "data": {
      "text/plain": [
       "[array([43,  6, 77, 16,  2, 69, 68, 52, 40, 33]),\n",
       " array([58, 60, 15, 62, 20, 76, 34, 23, 38, 47]),\n",
       " array([92, 29,  0, 53, 59, 31, 49, 41, 13, 72]),\n",
       " array([18, 21,  8, 80, 27, 90, 36, 61,  3, 86]),\n",
       " array([48, 50, 89, 24, 17, 57, 81, 78, 11, 63]),\n",
       " array([45, 64, 71, 22, 74,  5, 82, 39, 87, 10]),\n",
       " array([19, 83, 70, 42, 25, 66, 95, 91,  1, 44]),\n",
       " array([88, 79, 75, 84,  7, 94, 14, 55, 51, 46]),\n",
       " array([30, 12, 97, 73,  4,  9, 65, 85, 67, 98]),\n",
       " array([54, 96, 56, 37, 99, 35, 26, 93, 32, 28])]"
      ]
     },
     "execution_count": 148,
     "metadata": {},
     "output_type": "execute_result"
    }
   ],
   "source": [
    "a = np.arange(100)\n",
    "np.random.shuffle(a)\n",
    "sec = np.arange(10, 100, 10)\n",
    "np.array_split(a, sec)"
   ]
  },
  {
   "cell_type": "code",
   "execution_count": 22,
   "metadata": {},
   "outputs": [
    {
     "data": {
      "text/plain": [
       "[<matplotlib.lines.Line2D at 0x1f100101518>]"
      ]
     },
     "execution_count": 22,
     "metadata": {},
     "output_type": "execute_result"
    },
    {
     "data": {
      "image/png": "[encoded data removed]",
      "text/plain": [
       "<Figure size 432x288 with 1 Axes>"
      ]
     },
     "metadata": {
      "needs_background": "light"
     },
     "output_type": "display_data"
    }
   ],
   "source": [
    "# let's look at the loss history!\n",
    "plt.plot(loss_history)"
   ]
  },
  {
   "cell_type": "code",
   "execution_count": 45,
   "metadata": {},
   "outputs": [
    {
     "name": "stdout",
     "output_type": "stream",
     "text": [
      "Accuracy:  0.114\n",
      "Epoch 0, loss: 2.301086\n",
      "Epoch 1, loss: 2.301363\n",
      "Epoch 2, loss: 2.301968\n",
      "Epoch 3, loss: 2.301722\n",
      "Epoch 4, loss: 2.302229\n",
      "Epoch 5, loss: 2.303452\n",
      "Epoch 6, loss: 2.301739\n",
      "Epoch 7, loss: 2.301953\n",
      "Epoch 8, loss: 2.302390\n",
      "Epoch 9, loss: 2.301276\n",
      "Epoch 10, loss: 2.302297\n",
      "Epoch 11, loss: 2.301789\n",
      "Epoch 12, loss: 2.301831\n",
      "Epoch 13, loss: 2.302081\n",
      "Epoch 14, loss: 2.300625\n",
      "Epoch 15, loss: 2.301968\n",
      "Epoch 16, loss: 2.301594\n",
      "Epoch 17, loss: 2.302140\n",
      "Epoch 18, loss: 2.301738\n",
      "Epoch 19, loss: 2.301771\n",
      "Epoch 20, loss: 2.301555\n",
      "Epoch 21, loss: 2.301862\n",
      "Epoch 22, loss: 2.303046\n",
      "Epoch 23, loss: 2.302448\n",
      "Epoch 24, loss: 2.302104\n",
      "Epoch 25, loss: 2.301727\n",
      "Epoch 26, loss: 2.301728\n",
      "Epoch 27, loss: 2.302405\n",
      "Epoch 28, loss: 2.302222\n",
      "Epoch 29, loss: 2.301101\n",
      "Epoch 30, loss: 2.301226\n",
      "Epoch 31, loss: 2.302018\n",
      "Epoch 32, loss: 2.302585\n",
      "Epoch 33, loss: 2.301654\n",
      "Epoch 34, loss: 2.301803\n",
      "Epoch 35, loss: 2.302470\n",
      "Epoch 36, loss: 2.302540\n",
      "Epoch 37, loss: 2.301451\n",
      "Epoch 38, loss: 2.301836\n",
      "Epoch 39, loss: 2.301121\n",
      "Epoch 40, loss: 2.302259\n",
      "Epoch 41, loss: 2.302068\n",
      "Epoch 42, loss: 2.301472\n",
      "Epoch 43, loss: 2.301905\n",
      "Epoch 44, loss: 2.301599\n",
      "Epoch 45, loss: 2.301726\n",
      "Epoch 46, loss: 2.302324\n",
      "Epoch 47, loss: 2.302937\n",
      "Epoch 48, loss: 2.301580\n",
      "Epoch 49, loss: 2.301996\n",
      "Epoch 50, loss: 2.302062\n",
      "Epoch 51, loss: 2.301608\n",
      "Epoch 52, loss: 2.301888\n",
      "Epoch 53, loss: 2.301740\n",
      "Epoch 54, loss: 2.301896\n",
      "Epoch 55, loss: 2.301832\n",
      "Epoch 56, loss: 2.302497\n",
      "Epoch 57, loss: 2.301479\n",
      "Epoch 58, loss: 2.301219\n",
      "Epoch 59, loss: 2.301573\n",
      "Epoch 60, loss: 2.301569\n",
      "Epoch 61, loss: 2.302186\n",
      "Epoch 62, loss: 2.302131\n",
      "Epoch 63, loss: 2.301515\n",
      "Epoch 64, loss: 2.302163\n",
      "Epoch 65, loss: 2.301627\n",
      "Epoch 66, loss: 2.301208\n",
      "Epoch 67, loss: 2.302538\n",
      "Epoch 68, loss: 2.302218\n",
      "Epoch 69, loss: 2.301312\n",
      "Epoch 70, loss: 2.301846\n",
      "Epoch 71, loss: 2.302336\n",
      "Epoch 72, loss: 2.301633\n",
      "Epoch 73, loss: 2.302514\n",
      "Epoch 74, loss: 2.302652\n",
      "Epoch 75, loss: 2.302118\n",
      "Epoch 76, loss: 2.302454\n",
      "Epoch 77, loss: 2.302075\n",
      "Epoch 78, loss: 2.301937\n",
      "Epoch 79, loss: 2.302134\n",
      "Epoch 80, loss: 2.301136\n",
      "Epoch 81, loss: 2.301722\n",
      "Epoch 82, loss: 2.301530\n",
      "Epoch 83, loss: 2.301947\n",
      "Epoch 84, loss: 2.300848\n",
      "Epoch 85, loss: 2.302747\n",
      "Epoch 86, loss: 2.303040\n",
      "Epoch 87, loss: 2.301989\n",
      "Epoch 88, loss: 2.301294\n",
      "Epoch 89, loss: 2.302635\n",
      "Epoch 90, loss: 2.301274\n",
      "Epoch 91, loss: 2.301915\n",
      "Epoch 92, loss: 2.302017\n",
      "Epoch 93, loss: 2.301556\n",
      "Epoch 94, loss: 2.301982\n",
      "Epoch 95, loss: 2.302772\n",
      "Epoch 96, loss: 2.301111\n",
      "Epoch 97, loss: 2.301938\n",
      "Epoch 98, loss: 2.301023\n",
      "Epoch 99, loss: 2.302052\n",
      "Accuracy after training for 100 epochs:  0.12\n"
     ]
    }
   ],
   "source": [
    "# Let's check how it performs on validation set\n",
    "pred = classifier.predict(val_X)\n",
    "accuracy = multiclass_accuracy(pred, val_y)\n",
    "print(\"Accuracy: \", accuracy)\n",
    "\n",
    "# Now, let's train more and see if it performs better\n",
    "classifier.fit(train_X, train_y, epochs=100, learning_rate=1e-3, batch_size=300, reg=1e1)\n",
    "pred = classifier.predict(val_X)\n",
    "accuracy = multiclass_accuracy(pred, val_y)\n",
    "print(\"Accuracy after training for 100 epochs: \", accuracy)"
   ]
  },
  {
   "cell_type": "markdown",
   "metadata": {},
   "source": [
    "### Как и раньше, используем кросс-валидацию для подбора гиперпараметтов.\n",
    "\n",
    "В этот раз, чтобы тренировка занимала разумное время, мы будем использовать только одно разделение на тренировочные (training) и проверочные (validation) данные.\n",
    "\n",
    "Теперь нам нужно подобрать не один, а два гиперпараметра! Не ограничивайте себя изначальными значениями в коде.  \n",
    "Добейтесь точности более чем **20%** на проверочных данных (validation data)."
   ]
  },
  {
   "cell_type": "code",
   "execution_count": 57,
   "metadata": {},
   "outputs": [
    {
     "name": "stdout",
     "output_type": "stream",
     "text": [
      "Epoch 0, loss: 2.067897\n",
      "Epoch 1, loss: 2.084128\n",
      "Epoch 2, loss: 2.136113\n",
      "Epoch 3, loss: 2.032061\n",
      "Epoch 4, loss: 2.092131\n",
      "Epoch 5, loss: 1.999158\n",
      "Epoch 6, loss: 2.141041\n",
      "Epoch 7, loss: 2.076876\n",
      "Epoch 8, loss: 2.065523\n",
      "Epoch 9, loss: 2.091229\n",
      "Epoch 10, loss: 2.138477\n",
      "Epoch 11, loss: 2.061783\n",
      "Epoch 12, loss: 2.056999\n",
      "Epoch 13, loss: 2.117084\n",
      "Epoch 14, loss: 2.098260\n",
      "Epoch 15, loss: 2.005981\n",
      "Epoch 16, loss: 2.076710\n",
      "Epoch 17, loss: 2.028062\n",
      "Epoch 18, loss: 2.090060\n",
      "Epoch 19, loss: 2.046283\n",
      "best validation accuracy achieved: 0.272222\n",
      "Epoch 0, loss: 2.102376\n",
      "Epoch 1, loss: 2.099828\n",
      "Epoch 2, loss: 2.121793\n",
      "Epoch 3, loss: 2.054984\n",
      "Epoch 4, loss: 2.093379\n",
      "Epoch 5, loss: 2.113264\n",
      "Epoch 6, loss: 2.068464\n",
      "Epoch 7, loss: 2.101001\n",
      "Epoch 8, loss: 2.047870\n",
      "Epoch 9, loss: 2.165455\n",
      "Epoch 10, loss: 2.027303\n",
      "Epoch 11, loss: 2.071796\n",
      "Epoch 12, loss: 2.108808\n",
      "Epoch 13, loss: 2.115055\n",
      "Epoch 14, loss: 2.069713\n",
      "Epoch 15, loss: 2.023264\n",
      "Epoch 16, loss: 2.091877\n",
      "Epoch 17, loss: 2.081927\n",
      "Epoch 18, loss: 2.091928\n",
      "Epoch 19, loss: 2.118789\n",
      "best validation accuracy achieved: 0.272222\n",
      "Epoch 0, loss: 2.058439\n",
      "Epoch 1, loss: 2.058841\n",
      "Epoch 2, loss: 2.083249\n",
      "Epoch 3, loss: 2.091894\n",
      "Epoch 4, loss: 2.076819\n",
      "Epoch 5, loss: 2.081824\n",
      "Epoch 6, loss: 2.039636\n",
      "Epoch 7, loss: 2.086242\n",
      "Epoch 8, loss: 2.063198\n",
      "Epoch 9, loss: 2.069256\n",
      "Epoch 10, loss: 2.105731\n",
      "Epoch 11, loss: 2.083797\n",
      "Epoch 12, loss: 2.117788\n",
      "Epoch 13, loss: 2.035581\n",
      "Epoch 14, loss: 2.102840\n",
      "Epoch 15, loss: 2.080625\n",
      "Epoch 16, loss: 2.139016\n",
      "Epoch 17, loss: 2.061798\n",
      "Epoch 18, loss: 2.066706\n",
      "Epoch 19, loss: 2.086551\n",
      "best validation accuracy achieved: 0.282778\n",
      "Epoch 0, loss: 2.097128\n",
      "Epoch 1, loss: 2.078449\n",
      "Epoch 2, loss: 2.154995\n",
      "Epoch 3, loss: 2.057295\n",
      "Epoch 4, loss: 2.058648\n",
      "Epoch 5, loss: 2.122998\n",
      "Epoch 6, loss: 2.061842\n",
      "Epoch 7, loss: 2.087387\n",
      "Epoch 8, loss: 2.063372\n",
      "Epoch 9, loss: 2.053656\n",
      "Epoch 10, loss: 2.118632\n",
      "Epoch 11, loss: 2.044780\n",
      "Epoch 12, loss: 2.074642\n",
      "Epoch 13, loss: 2.009741\n",
      "Epoch 14, loss: 2.069504\n",
      "Epoch 15, loss: 2.107045\n",
      "Epoch 16, loss: 2.079456\n",
      "Epoch 17, loss: 2.029723\n",
      "Epoch 18, loss: 2.051180\n",
      "Epoch 19, loss: 2.038486\n",
      "best validation accuracy achieved: 0.285556\n",
      "Epoch 0, loss: 2.098600\n",
      "Epoch 1, loss: 1.994137\n",
      "Epoch 2, loss: 2.073105\n",
      "Epoch 3, loss: 2.027949\n",
      "Epoch 4, loss: 2.045919\n",
      "Epoch 5, loss: 2.019176\n",
      "Epoch 6, loss: 1.986009\n",
      "Epoch 7, loss: 2.074934\n",
      "Epoch 8, loss: 2.093145\n",
      "Epoch 9, loss: 2.015977\n",
      "Epoch 10, loss: 2.057422\n",
      "Epoch 11, loss: 2.053806\n",
      "Epoch 12, loss: 2.098895\n",
      "Epoch 13, loss: 2.012480\n",
      "Epoch 14, loss: 2.013536\n",
      "Epoch 15, loss: 2.089224\n",
      "Epoch 16, loss: 2.018798\n",
      "Epoch 17, loss: 2.019663\n",
      "Epoch 18, loss: 2.113965\n",
      "Epoch 19, loss: 2.018843\n",
      "best validation accuracy achieved: 0.285556\n"
     ]
    }
   ],
   "source": [
    "from sklearn.model_selection import KFold\n",
    "num_epochs = 20\n",
    "batch_size = 300\n",
    "\n",
    "learning_rates = [1e-1]\n",
    "reg_strengths = [1e-7]\n",
    "kf = KFold(n_splits=5)\n",
    "\n",
    "best_classifier = None\n",
    "best_val_accuracy = 0\n",
    "\n",
    "# TODO use validation set to find the best hyperparameters\n",
    "# hint: for best results, you might need to try more values for learning rate and regularization strength \n",
    "# than provided initially\n",
    "for i in range(len(learning_rates)):\n",
    "    for train_index, test_index in kf.split(train_X):\n",
    "        classifier.fit(train_X[train_index], train_y[train_index],\n",
    "                       epochs=num_epochs, learning_rate=learning_rates[i],\n",
    "                       batch_size=batch_size, reg=reg_strengths[i])\n",
    "        pred = classifier.predict(train_X[test_index])\n",
    "        accuracy = multiclass_accuracy(pred, train_y[test_index])\n",
    "        if (best_val_accuracy < accuracy):\n",
    "            best_val_accuracy = accuracy\n",
    "            best_classifier = classifier\n",
    "        print('best validation accuracy achieved: %f' % best_val_accuracy)\n"
   ]
  },
  {
   "cell_type": "markdown",
   "metadata": {},
   "source": [
    "# Какой же точности мы добились на тестовых данных?"
   ]
  },
  {
   "cell_type": "code",
   "execution_count": 59,
   "metadata": {},
   "outputs": [
    {
     "name": "stdout",
     "output_type": "stream",
     "text": [
      "Linear softmax classifier test set accuracy: 0.215000\n"
     ]
    }
   ],
   "source": [
    "test_pred = best_classifier.predict(test_X)\n",
    "test_accuracy = multiclass_accuracy(test_pred, test_y)\n",
    "print('Linear softmax classifier test set accuracy: %f' % (test_accuracy, ))"
   ]
  }
 ],
 "metadata": {
  "kernelspec": {
   "display_name": "Python 3",
   "language": "python",
   "name": "python3"
  },
  "language_info": {
   "codemirror_mode": {
    "name": "ipython",
    "version": 3
   },
   "file_extension": ".py",
   "mimetype": "text/x-python",
   "name": "python",
   "nbconvert_exporter": "python",
   "pygments_lexer": "ipython3",
   "version": "3.7.3"
  }
 },
 "nbformat": 4,
 "nbformat_minor": 2
}
